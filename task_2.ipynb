{
 "cells": [
  {
   "cell_type": "code",
   "execution_count": null,
   "id": "7cb25735-6dae-40e6-a07d-15fe404c3d4e",
   "metadata": {},
   "outputs": [],
   "source": [
    "import speech_recognition as sr\n",
    "import pyttsx3\n",
    "import google.generativeai as genai  # Import Gemini API\n",
    "\n",
    "# Set up Gemini API Key\n",
    "genai.configure(api_key=\"Yor Api Key\")  # Replace with your actual API key\n",
    "\n",
    "def recognize_speech():\n",
    "    recognizer = sr.Recognizer()\n",
    "    engine = pyttsx3.init()\n",
    "    with sr.Microphone() as source:\n",
    "        print(\"Listening...\")\n",
    "        recognizer.adjust_for_ambient_noise(source)\n",
    "        audio = recognizer.listen(source)\n",
    "    \n",
    "    try:\n",
    "        print(\"Recognizing...\") \n",
    "        text = recognizer.recognize_google(audio, language='en-IN')\n",
    "        print(f\"You said: {text}\")\n",
    "        \n",
    "        # Get AI response from Gemini\n",
    "        response = get_ai_response(text)\n",
    "        print(f\"AI: {response}\")\n",
    "        \n",
    "        # Speak the AI response\n",
    "        engine.say(response)\n",
    "        engine.runAndWait()\n",
    "        \n",
    "        return response\n",
    "    except sr.UnknownValueError:\n",
    "        print(\"Sorry, could not understand the audio.\")\n",
    "        engine.say(\"Sorry, could not understand the audio.\")\n",
    "        engine.runAndWait()\n",
    "    except sr.RequestError:\n",
    "        print(\"Could not request results, check your internet connection.\")\n",
    "        engine.say(\"Could not request results, check your internet connection.\")\n",
    "        engine.runAndWait()\n",
    "\n",
    "def get_ai_response(prompt):\n",
    "    model = genai.GenerativeModel(\"gemini-1.5-flash\")  # Use Gemini 1.5 Flash (Free Tier)\n",
    "    response = model.generate_content(prompt)\n",
    "    return response.text.strip()\n",
    "\n",
    "if __name__ == \"__main__\":\n",
    "    recognize_speech()\n"
   ]
  }
 ],
 "metadata": {
  "kernelspec": {
   "display_name": "Python 3 (ipykernel)",
   "language": "python",
   "name": "python3"
  },
  "language_info": {
   "codemirror_mode": {
    "name": "ipython",
    "version": 3
   },
   "file_extension": ".py",
   "mimetype": "text/x-python",
   "name": "python",
   "nbconvert_exporter": "python",
   "pygments_lexer": "ipython3",
   "version": "3.12.7"
  }
 },
 "nbformat": 4,
 "nbformat_minor": 5
}
